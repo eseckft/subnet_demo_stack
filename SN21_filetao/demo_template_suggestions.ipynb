{
 "cells": [
  {
   "cell_type": "markdown",
   "metadata": {},
   "source": [
    "# SN netuid - sn_name demo\n",
    "\n",
    "This demo notebook should fufill the following tasks.\n",
    " - (A) Describe the subnet objective, task of miners, and how validators objectively score work performed by miners.\n",
    " > Suggestion: Simply add the overview to the task list.\n",
    " - (B) Demonstrate the quality of the communication between miners and validators coming from the top miner.\n",
    " > Suggestion: This is worded in a way that makes it difficult to separate how the miner - validator communication happens from what is \"good/bad\" communication on it. Perhaps it would serve better as a question further down the stack *after* the subnet owner has done initial objective/justification of the subnet. The flow could be something like:\n",
    ">  1. explain subnet objective first\n",
    ">  2. then explain subnet communication (how do miners/validators talk)\n",
    ">  3. then explain what \"good behavior\" looks like\n",
    "\n",
    " - (C) Justify the difference in incentive for miners in different tiers (eg.quantile 1 VS quantile 3).\n",
    " - (D) (If applicable) Show the landscape and variety of miners. \n",
    " - (E) (If applicable) Demonstrate the effectiveness of the scoring mechanism.\n",
    " - (F) (If applicable) Show the dataset that was used by the validator.\n",
    " - (G) (If applicable) Show the use of any API and/or links to a frontend.\n",
    " - (H) (If applicable) Demonstrate or discuss any important feature(s) of the reward mechanism not already covered.\n",
    " \n",
    " - ** If you have difficulty in completing any of the task and need an alternative, please feel free to contact Isabella(isabella618033)/ Eugene(eugene3684) from the Opentensor Foundation on Discord.\n",
    " - ** We understand that SNs runs very differently, so please feel free to make any modification to the notebook that best suit your SN as long as it can demonstrate\n",
    " - ** For any wallet/ dendrite calls needed, we will be using the foundation hotkey \n"
   ]
  },
  {
   "cell_type": "markdown",
   "metadata": {},
   "source": [
    "> Suggestion: Make this ## Objective it's own box so that it's clear you want the owner to start here and is separate from instruction set.\n",
    "\n",
    "## (A) Objective\n",
    ">  Please write the objective of the SN with precision. \n",
    "> - One (or two) sentence concise description of the goal of the subnet.\n",
    "> - The task of the miner (what task does the validator send to miners, and what are miners supposed to respond with.)\n",
    "> - The scoring mechanism (how are miners scored, please specify is there is any model involved)\n",
    "> - The reward mechanism (if separate from or additional to initial scoring mechanism)\n",
    "> - The dataset used (if applicable)\n",
    "\n",
    "## Setup\n",
    "> Please give instructions for how to run the notebook."
   ]
  },
  {
   "cell_type": "code",
   "execution_count": null,
   "metadata": {},
   "outputs": [],
   "source": [
    "## Install dependencies and setup notebook.\n",
    "# e.g. pip install ...\n",
    "# for example:\n",
    "%pip install torch\n",
    "..."
   ]
  },
  {
   "cell_type": "markdown",
   "metadata": {},
   "source": [
    "## (B) Top miner responses\n",
    "- This section should demonstrate the quality of the communication between miners and validators coming from the top miner.\n",
    "\n",
    "> - (1) Define a group of top miner.\n",
    ">\n",
    "> - (2) Define a forward function. \n",
    "> - (3) Call the forward function for the top miners. \n",
    "> - (4) Show the responses from the miners.\n",
    "\n",
    "> Suggestion: If this doesn't make sense for a given subnet, ask (optionally) how they could provide ways to query miners in such a way that showcases the usability and \"high performance\". Because \"top\" miners may mean different things in different contexts, depending on the service or digital commodity that is produced."
   ]
  },
  {
   "cell_type": "markdown",
   "metadata": {},
   "source": [
    "## (C) Justification for incentive distribution \n",
    "- Justify the difference in incentive for miners in different incentive tiers (eg. sample 5 miners from quantile 1 VS 5 miners from quantile 3) with code.\n",
    "- If there is no significant difference in the incentive distribution, you can also show that miners in the SN have about the same performance in multiple ways.\n",
    "\n",
    "- There could be many reasons for the difference in incentive for miners. \n",
    "    - Case 1: Difference in the quality of response\n",
    "        - Show that miners with higher incentive generally give better answer then those with lower incentive through the following ways\n",
    "            - lower loss; higher accuracy\n",
    "            - human eval for text/ image/ audio quality \n",
    "\n",
    "    - Case 2: Difference in miner avalibility \n",
    "        - Then you can show that given a certain number of trials(100), there are more successful calls to higher incentive miners.\n",
    "        \n",
    "    - Case 3: Difference in latency.\n",
    "        - Then you can show that miners in Q1 generally response in faster time rather then miners in Q3.\n",
    "\n",
    "    - Case 4: Please provide your own justification if the reasons above dosen't fit.\n",
    "\n",
    "> (1) Define the group of high incentive miner VS low incentive miner (you can have ~5 samples from each group, but please feel to make your own definition of high/low incentive miners)\n",
    ">\n",
    "> (2) Make the forward call to the group of high/low incentive miners \n",
    ">\n",
    "> (3) Show the difference in the quality of the high/low incentive miners \n"
   ]
  },
  {
   "cell_type": "markdown",
   "metadata": {},
   "source": [
    "## (D) (If applicable) Miner landscape\n",
    "- How many unique responses can we get from the network and how many miners are giving the same responses. It is perfectly fine even if all of the miners respond the same thing.\n",
    "> (1) Send the same request to all miners over the SN\n",
    ">\n",
    "> (2) Check the number of unique responses  \n",
    "> \n",
    "> (3) Check the number of miners giving the same response\n",
    "  "
   ]
  },
  {
   "cell_type": "markdown",
   "metadata": {},
   "source": [
    " ## (E) (If applicable) Demonstrate the effectiveness of the scoring mechanism.\n",
    "- If you are using a reward/penalty model: \n",
    "    - Please load the reward or penalty model one by one and then show that the reward of a good response > the reward of a bad response\n",
    "    - Please also allow us to customise the input of the reward model\n",
    "\n",
    "    > (1) Load the reward/penalty model one by one \n",
    "    >\n",
    "    > (2) Define the good/bad response\n",
    "    >\n",
    "    > (3) Score the response with the model\n",
    "\n",
    "- Otherwise, you may just give a ~~brief~~ detailed explanation to how does your scoring mechanism works. Use code examples where appropriate."
   ]
  },
  {
   "cell_type": "markdown",
   "metadata": {},
   "source": [
    "\n",
    " ## (F) (If applicable) Show the dataset that was used by the validator.\n",
    " > (1) Load the dataset \n",
    " > \n",
    " > (2) Show the first 10 samples of the dataset \n",
    "\n",
    "If no dataset is used, how is data validated on the subnet, and how is the commodity quality being verified?"
   ]
  },
  {
   "cell_type": "markdown",
   "metadata": {},
   "source": [
    " ## (G) (If applicable) Demonstrate the use of any API and/or links to a frontend.\n",
    "\n",
    "Please provide code examples for how to query miners or validators on the subnet to do meaningful work. E.g. provide the `synapse`(s) and preparation to query relevant axons on the subnet.\n",
    "\n",
    "Frontend Link (optional):\n",
    "Dashboard link (optinal):"
   ]
  },
  {
   "cell_type": "markdown",
   "metadata": {},
   "source": [
    "## (H) (If applicable) Demonstrate or discuss any important features of the reward mechanism not already covered.\n",
    "> Suggestion: This would be nice to allow people to highlight innovative or important features that are not easily covered by the typical subnet use-cases or questions so far."
   ]
  },
  {
   "cell_type": "markdown",
   "metadata": {},
   "source": [
    "## Consent: Do you want this demo notebook to be public? Yes/No \n",
    "Contact info: (email/discord/linkedin/etc) "
   ]
  }
 ],
 "metadata": {
  "kernelspec": {
   "display_name": "Python 3",
   "language": "python",
   "name": "python3"
  },
  "language_info": {
   "codemirror_mode": {
    "name": "ipython",
    "version": 3
   },
   "file_extension": ".py",
   "mimetype": "text/x-python",
   "name": "python",
   "nbconvert_exporter": "python",
   "pygments_lexer": "ipython3",
   "version": "3.10.13"
  }
 },
 "nbformat": 4,
 "nbformat_minor": 2
}
